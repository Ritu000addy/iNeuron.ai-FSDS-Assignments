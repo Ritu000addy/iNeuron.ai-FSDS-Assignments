{
 "cells": [
  {
   "attachments": {},
   "cell_type": "markdown",
   "metadata": {},
   "source": [
    "1. Write a Python program to find words which are greater than given length k?"
   ]
  },
  {
   "cell_type": "code",
   "execution_count": 5,
   "metadata": {},
   "outputs": [
    {
     "name": "stdout",
     "output_type": "stream",
     "text": [
      "['Python', 'program', 'everybody']\n"
     ]
    }
   ],
   "source": [
    "text = \"Python program is easy for everybody\"\n",
    "k = 4\n",
    "new = []\n",
    "for i in text.split(' '):\n",
    "    if len(i) > k:\n",
    "        new.append(i)\n",
    "print(new)"
   ]
  },
  {
   "attachments": {},
   "cell_type": "markdown",
   "metadata": {},
   "source": [
    "2. Write a Python program for removing i-th character from a string?"
   ]
  },
  {
   "cell_type": "code",
   "execution_count": 6,
   "metadata": {},
   "outputs": [
    {
     "data": {
      "text/plain": [
       "'pyton'"
      ]
     },
     "execution_count": 6,
     "metadata": {},
     "output_type": "execute_result"
    }
   ],
   "source": [
    "def removechar(s, i):\n",
    "    a = s[:i]\n",
    "    b = s[i+1:]\n",
    "    return a+b\n",
    "removechar(\"python\", 3)"
   ]
  },
  {
   "attachments": {},
   "cell_type": "markdown",
   "metadata": {},
   "source": [
    "3. Write a Python program to split and join a string?"
   ]
  },
  {
   "cell_type": "code",
   "execution_count": 13,
   "metadata": {},
   "outputs": [
    {
     "name": "stdout",
     "output_type": "stream",
     "text": [
      "['Python', 'coding']\n",
      "Python-coding\n"
     ]
    }
   ],
   "source": [
    "text2 = \"Python coding\"\n",
    "a = text2.split(' ')\n",
    "print(a)\n",
    "b = '-'.join(a)\n",
    "print(b)"
   ]
  },
  {
   "attachments": {},
   "cell_type": "markdown",
   "metadata": {},
   "source": [
    "4. Write a Python to check if a given string is binary string or not?"
   ]
  },
  {
   "cell_type": "code",
   "execution_count": 14,
   "metadata": {},
   "outputs": [
    {
     "name": "stdout",
     "output_type": "stream",
     "text": [
      "Yes\n"
     ]
    }
   ],
   "source": [
    "import re\n",
    "sample = \"100101110\"\n",
    "c = re.compile('[^01]')\n",
    "if len(c.findall(sample)):\n",
    "    print(\"No\")\n",
    "else:\n",
    "    print(\"Yes\")"
   ]
  },
  {
   "attachments": {},
   "cell_type": "markdown",
   "metadata": {},
   "source": [
    "5. Write a Python program to find uncommon words from two Strings?"
   ]
  },
  {
   "cell_type": "code",
   "execution_count": 15,
   "metadata": {},
   "outputs": [
    {
     "data": {
      "text/plain": [
       "['useful', 'coding', 'easy']"
      ]
     },
     "execution_count": 15,
     "metadata": {},
     "output_type": "execute_result"
    }
   ],
   "source": [
    "def uncommonwords(a, b):\n",
    "    a = a.split(' ')\n",
    "    b = b.split(' ')\n",
    "    x = []\n",
    "    for i in a:\n",
    "        if i not in b:\n",
    "            x.append(i)\n",
    "    for i in b:\n",
    "        if i not in a:\n",
    "            x.append(i)\n",
    "    x = list(set(x))\n",
    "    return x\n",
    "\n",
    "a = \"Python coding is useful\"\n",
    "b = \"Python is easy\"\n",
    "uncommonwords(a, b)"
   ]
  },
  {
   "attachments": {},
   "cell_type": "markdown",
   "metadata": {},
   "source": [
    "6. Write a Python to find all duplicate characters in string?"
   ]
  },
  {
   "cell_type": "code",
   "execution_count": 17,
   "metadata": {},
   "outputs": [
    {
     "name": "stdout",
     "output_type": "stream",
     "text": [
      "['c', 'a', 'r']\n"
     ]
    }
   ],
   "source": [
    "dup = \"characters\"\n",
    "dup_char = []\n",
    "for i in dup:\n",
    "    if dup.count(i) > 1:\n",
    "        if i not in dup_char:\n",
    "            dup_char.append(i)\n",
    "print(dup_char)"
   ]
  },
  {
   "attachments": {},
   "cell_type": "markdown",
   "metadata": {},
   "source": [
    "7. Write a Python Program to check if a string contains any special character?"
   ]
  },
  {
   "cell_type": "code",
   "execution_count": 20,
   "metadata": {},
   "outputs": [
    {
     "name": "stdout",
     "output_type": "stream",
     "text": [
      "String has special characters\n"
     ]
    }
   ],
   "source": [
    "sp_char = '''[`~@!#$%^&*()-_+={}[]|\\;:'\"?/<>.]'''\n",
    "text3 = \"Pyt#ho$n&\"\n",
    "c = 0\n",
    "text3.split()\n",
    "for i in range(len(text3)):\n",
    "    if text3[i] in sp_char:\n",
    "        c += 1\n",
    "if c:\n",
    "    print(\"String has special characters\")\n",
    "else:\n",
    "    print(\"String has no special characters\")"
   ]
  }
 ],
 "metadata": {
  "kernelspec": {
   "display_name": "datascience",
   "language": "python",
   "name": "python3"
  },
  "language_info": {
   "codemirror_mode": {
    "name": "ipython",
    "version": 3
   },
   "file_extension": ".py",
   "mimetype": "text/x-python",
   "name": "python",
   "nbconvert_exporter": "python",
   "pygments_lexer": "ipython3",
   "version": "3.9.12"
  },
  "orig_nbformat": 4
 },
 "nbformat": 4,
 "nbformat_minor": 2
}
