{
 "cells": [
  {
   "attachments": {},
   "cell_type": "markdown",
   "metadata": {},
   "source": [
    "1. Write a Python Program to Find the Factorial of a Number?"
   ]
  },
  {
   "cell_type": "code",
   "execution_count": 10,
   "metadata": {},
   "outputs": [
    {
     "name": "stdout",
     "output_type": "stream",
     "text": [
      "Factorial is 24\n"
     ]
    }
   ],
   "source": [
    "a = int(input())\n",
    "fact = 1\n",
    "if a <0:\n",
    "    print(\"No factorial for negative numbers\")\n",
    "elif a == 0:\n",
    "    print(\"Factorial is 1\")\n",
    "else:\n",
    "    for i in range(1, a+1):\n",
    "        fact = fact * i\n",
    "    print(f'Factorial is', fact)"
   ]
  },
  {
   "attachments": {},
   "cell_type": "markdown",
   "metadata": {},
   "source": [
    "2. Write a Python Program to Display the multiplication Table?"
   ]
  },
  {
   "cell_type": "code",
   "execution_count": 11,
   "metadata": {},
   "outputs": [
    {
     "name": "stdout",
     "output_type": "stream",
     "text": [
      "13 X 1 = 13\n",
      "13 X 2 = 26\n",
      "13 X 3 = 39\n",
      "13 X 4 = 52\n",
      "13 X 5 = 65\n",
      "13 X 6 = 78\n",
      "13 X 7 = 91\n",
      "13 X 8 = 104\n",
      "13 X 9 = 117\n",
      "13 X 10 = 130\n"
     ]
    }
   ],
   "source": [
    "b = int(input())\n",
    "for i in range(1, 11):\n",
    "    print(b, 'X', i, \"=\", b*i)"
   ]
  },
  {
   "attachments": {},
   "cell_type": "markdown",
   "metadata": {},
   "source": [
    "3. Write a Python Program to Print the Fibonacci sequence?"
   ]
  },
  {
   "cell_type": "code",
   "execution_count": 25,
   "metadata": {},
   "outputs": [
    {
     "name": "stdout",
     "output_type": "stream",
     "text": [
      "Fibonacci sequence\n",
      "0\n",
      "1\n",
      "1\n",
      "2\n",
      "3\n",
      "5\n"
     ]
    }
   ],
   "source": [
    "n1 , n2 = 0, 1\n",
    "count = 0\n",
    "term = int(input())\n",
    "if term <=0:\n",
    "    print(\"Enter positive term\")\n",
    "elif term == 1:\n",
    "    print(n1)\n",
    "else:\n",
    "    print(\"Fibonacci sequence\")\n",
    "    while count < term:\n",
    "        print(n1)\n",
    "        nth = n1 + n2\n",
    "        n1 = n2\n",
    "        n2 = nth\n",
    "        count += 1"
   ]
  },
  {
   "attachments": {},
   "cell_type": "markdown",
   "metadata": {},
   "source": [
    "4. Write a Python Program to Check Armstrong Number?"
   ]
  },
  {
   "cell_type": "code",
   "execution_count": 56,
   "metadata": {},
   "outputs": [
    {
     "name": "stdout",
     "output_type": "stream",
     "text": [
      "It is an Armstrong number\n"
     ]
    }
   ],
   "source": [
    "#153 = 1*1*1 + 5*5*5 + 3*3*3\n",
    "#1634 = 1*1*1*1 + 6*6*6*6 + 3*3*3*3 + 4*4*4*4\n",
    "\n",
    "num = int(input())\n",
    "order = len(str(num))\n",
    "s = 0\n",
    "temp = num\n",
    "while temp > 0:\n",
    "    x = temp % 10    #3 #5 #1\n",
    "    s += x**order\n",
    "    temp //= 10      #15 #1 #0\n",
    "\n",
    "if num == s:\n",
    "    print(\"It is an Armstrong number\")\n",
    "else:\n",
    "    print(\"It is not an Armstrong number\")"
   ]
  },
  {
   "attachments": {},
   "cell_type": "markdown",
   "metadata": {},
   "source": [
    "5. Write a Python Program to Find Armstrong Number in an Interval?"
   ]
  },
  {
   "cell_type": "code",
   "execution_count": 55,
   "metadata": {},
   "outputs": [
    {
     "name": "stdout",
     "output_type": "stream",
     "text": [
      "153\n",
      "370\n",
      "371\n",
      "407\n",
      "1634\n",
      "8208\n",
      "9474\n"
     ]
    }
   ],
   "source": [
    "for num in range(100, 10000):\n",
    "    order = len(str(num))\n",
    "    s = 0\n",
    "    temp = num\n",
    "    while temp > 0:\n",
    "        x = temp % 10 \n",
    "        s += x**order\n",
    "        temp //= 10 \n",
    "    if num == s:\n",
    "        print(num)"
   ]
  },
  {
   "attachments": {},
   "cell_type": "markdown",
   "metadata": {},
   "source": [
    "6. Write a Python Program to Find the Sum of Natural Numbers?"
   ]
  },
  {
   "cell_type": "code",
   "execution_count": 64,
   "metadata": {},
   "outputs": [
    {
     "name": "stdout",
     "output_type": "stream",
     "text": [
      "6\n"
     ]
    }
   ],
   "source": [
    "n = int(input())\n",
    "if n < 0:\n",
    "    print(\"Enter positive number\")\n",
    "else:\n",
    "    s = 0\n",
    "    while n>0:\n",
    "        s += n\n",
    "        n -= 1\n",
    "    print(s)"
   ]
  }
 ],
 "metadata": {
  "kernelspec": {
   "display_name": "datascience",
   "language": "python",
   "name": "python3"
  },
  "language_info": {
   "codemirror_mode": {
    "name": "ipython",
    "version": 3
   },
   "file_extension": ".py",
   "mimetype": "text/x-python",
   "name": "python",
   "nbconvert_exporter": "python",
   "pygments_lexer": "ipython3",
   "version": "3.9.12"
  },
  "orig_nbformat": 4,
  "vscode": {
   "interpreter": {
    "hash": "2b95d1d26a7c151409d3838b561334334add08b8c47c80f91b49b2addd682c6f"
   }
  }
 },
 "nbformat": 4,
 "nbformat_minor": 2
}
