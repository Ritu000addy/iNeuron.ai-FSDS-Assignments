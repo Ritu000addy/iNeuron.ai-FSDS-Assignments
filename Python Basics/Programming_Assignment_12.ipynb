{
 "cells": [
  {
   "attachments": {},
   "cell_type": "markdown",
   "metadata": {},
   "source": [
    "1. Write a Python program to Extract Unique values dictionary values?"
   ]
  },
  {
   "cell_type": "code",
   "execution_count": 30,
   "metadata": {},
   "outputs": [
    {
     "name": "stdout",
     "output_type": "stream",
     "text": [
      "[1, 2, 5, 6, 7, 8, 10, 11, 12]\n"
     ]
    }
   ],
   "source": [
    "dict_v = {'a' : [5,6,7,8], 'b': [10,11,7,5], 'c': [6,12,10,8], 'd': [1,2,5]}\n",
    "res = list(sorted({ele for val in dict_v.values() for ele in val}))\n",
    "print(res)"
   ]
  },
  {
   "attachments": {},
   "cell_type": "markdown",
   "metadata": {},
   "source": [
    "2. Write a Python program to find the sum of all items in a dictionary?"
   ]
  },
  {
   "cell_type": "code",
   "execution_count": 32,
   "metadata": {},
   "outputs": [
    {
     "name": "stdout",
     "output_type": "stream",
     "text": [
      "26\n"
     ]
    }
   ],
   "source": [
    "dict_s = {'a' : 5, 'b': 6, 'c' :7, 'd': 8}\n",
    "print(sum(dict_s.values()))"
   ]
  },
  {
   "attachments": {},
   "cell_type": "markdown",
   "metadata": {},
   "source": [
    "3. Write a Python program to Merging two Dictionaries?"
   ]
  },
  {
   "cell_type": "code",
   "execution_count": 36,
   "metadata": {},
   "outputs": [
    {
     "name": "stdout",
     "output_type": "stream",
     "text": [
      "{'a': 5, 'b': 6, 'c': 7, 'd': 8}\n"
     ]
    }
   ],
   "source": [
    "dict1 = {'a' : 5, 'b': 6}\n",
    "dict2 = {'c' :7, 'd': 8}\n",
    "dict1.update(dict2)\n",
    "print(dict1)"
   ]
  },
  {
   "attachments": {},
   "cell_type": "markdown",
   "metadata": {},
   "source": [
    "4. Write a Python program to convert key-values list to flat dictionary?"
   ]
  },
  {
   "cell_type": "code",
   "execution_count": 37,
   "metadata": {},
   "outputs": [
    {
     "name": "stdout",
     "output_type": "stream",
     "text": [
      "{5: 'x', 6: 'y', 7: 'z', 8: 'c'}\n"
     ]
    }
   ],
   "source": [
    "dict_f = {'a' : [5,6,7,8], 'b': ['x','y','z', 'c']}\n",
    "res1 = dict(zip(dict_f['a'], dict_f['b']))\n",
    "print(res1)"
   ]
  },
  {
   "attachments": {},
   "cell_type": "markdown",
   "metadata": {},
   "source": [
    "5. Write a Python program to insertion at the beginning in OrderedDict?"
   ]
  },
  {
   "cell_type": "code",
   "execution_count": 39,
   "metadata": {},
   "outputs": [
    {
     "name": "stdout",
     "output_type": "stream",
     "text": [
      "OrderedDict([('c', 7), ('a', 5), ('b', 6)])\n"
     ]
    }
   ],
   "source": [
    "from collections import OrderedDict\n",
    "inordered_dict = OrderedDict([('a', 5), ('b', 6)])\n",
    "inordered_dict.update({'c': 7})\n",
    "inordered_dict.move_to_end('c', last= False)\n",
    "print(inordered_dict)"
   ]
  },
  {
   "attachments": {},
   "cell_type": "markdown",
   "metadata": {},
   "source": [
    "6. Write a Python program to check order of character in string using OrderedDict()?"
   ]
  },
  {
   "cell_type": "code",
   "execution_count": 52,
   "metadata": {},
   "outputs": [
    {
     "name": "stdout",
     "output_type": "stream",
     "text": [
      "Incorrect pattern order\n"
     ]
    }
   ],
   "source": [
    "from collections import OrderedDict\n",
    "my_input = 'Hi Python'\n",
    "my_pattern = 'Py'\n",
    "my_dict = OrderedDict.fromkeys(my_input)\n",
    "pattern =0\n",
    "for k, v in my_dict.items():\n",
    "    if k == my_pattern[pattern]:\n",
    "        pattern += pattern\n",
    "    if pattern == len(my_pattern):\n",
    "        print(\"Correct pattern order\")\n",
    "else:\n",
    "    print(\"Incorrect pattern order\")"
   ]
  },
  {
   "attachments": {},
   "cell_type": "markdown",
   "metadata": {},
   "source": [
    "7. Write a Python program to sort Python Dictionaries by Key or Value?"
   ]
  },
  {
   "cell_type": "code",
   "execution_count": 57,
   "metadata": {},
   "outputs": [
    {
     "name": "stdout",
     "output_type": "stream",
     "text": [
      "['apple', 'bird', 'cat', 'dog']\n",
      "[5, 7, 8, 17]\n",
      "[('apple', 5), ('bird', 17), ('cat', 8), ('dog', 7)]\n"
     ]
    }
   ],
   "source": [
    "dict5 = {'apple' : 5, 'cat': 8,'dog' :7, 'bird': 17}\n",
    "print(sorted(dict5.keys()))\n",
    "print(sorted(dict5.values()))\n",
    "print(sorted(dict5.items()))"
   ]
  }
 ],
 "metadata": {
  "kernelspec": {
   "display_name": "datascience",
   "language": "python",
   "name": "python3"
  },
  "language_info": {
   "codemirror_mode": {
    "name": "ipython",
    "version": 3
   },
   "file_extension": ".py",
   "mimetype": "text/x-python",
   "name": "python",
   "nbconvert_exporter": "python",
   "pygments_lexer": "ipython3",
   "version": "3.9.12"
  },
  "orig_nbformat": 4
 },
 "nbformat": 4,
 "nbformat_minor": 2
}
