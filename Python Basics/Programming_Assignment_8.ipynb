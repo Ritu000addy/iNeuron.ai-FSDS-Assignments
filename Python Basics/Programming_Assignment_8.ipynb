{
 "cells": [
  {
   "attachments": {},
   "cell_type": "markdown",
   "metadata": {},
   "source": [
    "1. Write a Python Program to Add Two Matrices?"
   ]
  },
  {
   "cell_type": "code",
   "execution_count": 10,
   "metadata": {},
   "outputs": [
    {
     "name": "stdout",
     "output_type": "stream",
     "text": [
      "[5, 9, 14]\n",
      "[46, 8, 15]\n",
      "[59, 35, 17]\n"
     ]
    }
   ],
   "source": [
    "a = [[4,7,11],[34,5,8],[5,2,16]]\n",
    "b = [[1,2,3],[12,3,7],[54,33,1]]\n",
    "res = [[0,0,0],[0,0,0],[0,0,0]]\n",
    "for i in range(len(a)):\n",
    "    for j in range(len(a[0])):\n",
    "            res[i][j] += a[i][j] + b[i][j]\n",
    "for r in res:\n",
    "    print(r)"
   ]
  },
  {
   "attachments": {},
   "cell_type": "markdown",
   "metadata": {},
   "source": [
    "2. Write a Python Program to Multiply Two Matrices?"
   ]
  },
  {
   "cell_type": "code",
   "execution_count": 7,
   "metadata": {},
   "outputs": [
    {
     "name": "stdout",
     "output_type": "stream",
     "text": [
      "[682, 392, 338, 1041]\n",
      "[526, 347, 335, 943]\n",
      "[893, 544, 121, 1452]\n"
     ]
    }
   ],
   "source": [
    "c = [[4,7,11],[34,5,8],[5,2,16]]\n",
    "d = [[1,2,3,6],[12,3,45,7],[54,33,1,88]]\n",
    "res = [[0,0,0,0],[0,0,0,0],[0,0,0,0]]\n",
    "for i in range(len(c)):\n",
    "    for j in range(len(d[0])):\n",
    "        for k in range(len(d)):\n",
    "            res[i][j] += c[i][k] * d[k][j]\n",
    "for r in res:\n",
    "    print(r)"
   ]
  },
  {
   "attachments": {},
   "cell_type": "markdown",
   "metadata": {},
   "source": [
    "3. Write a Python Program to Transpose a Matrix?"
   ]
  },
  {
   "cell_type": "code",
   "execution_count": 11,
   "metadata": {},
   "outputs": [
    {
     "name": "stdout",
     "output_type": "stream",
     "text": [
      "[4, 34, 5]\n",
      "[7, 8, 2]\n"
     ]
    }
   ],
   "source": [
    "e = [[4,7],[34,8],[5,2]]\n",
    "res = [[0,0,0],[0,0,0]]\n",
    "for i in range(len(e)):\n",
    "    for j in range(len(e[0])):\n",
    "            res[j][i] += e[i][j]\n",
    "for r in res:\n",
    "    print(r)"
   ]
  },
  {
   "attachments": {},
   "cell_type": "markdown",
   "metadata": {},
   "source": [
    "4. Write a Python Program to Sort Words in Alphabetic Order?"
   ]
  },
  {
   "cell_type": "code",
   "execution_count": 13,
   "metadata": {},
   "outputs": [
    {
     "name": "stdout",
     "output_type": "stream",
     "text": [
      "coding\n",
      "is\n",
      "python\n",
      "this\n"
     ]
    }
   ],
   "source": [
    "word = input().split()\n",
    "word.sort()\n",
    "for w in word:\n",
    "    print(w)\n",
    "#this is python coding"
   ]
  },
  {
   "attachments": {},
   "cell_type": "markdown",
   "metadata": {},
   "source": [
    "5. Write a Python Program to Remove Punctuation From a String?"
   ]
  },
  {
   "cell_type": "code",
   "execution_count": 15,
   "metadata": {},
   "outputs": [
    {
     "name": "stdout",
     "output_type": "stream",
     "text": [
      "Hello This is a python code\n"
     ]
    }
   ],
   "source": [
    "punc = '''!@#$%^&*-<>?/,.\\|;:'\"()[]{}`~_'''\n",
    "sentence = \"Hello! This --is a #python {code}:\"\n",
    "no_punc = \"\"\n",
    "for char in sentence:\n",
    "    if char not in punc:\n",
    "        no_punc += char\n",
    "print(no_punc)"
   ]
  }
 ],
 "metadata": {
  "kernelspec": {
   "display_name": "datascience",
   "language": "python",
   "name": "python3"
  },
  "language_info": {
   "codemirror_mode": {
    "name": "ipython",
    "version": 3
   },
   "file_extension": ".py",
   "mimetype": "text/x-python",
   "name": "python",
   "nbconvert_exporter": "python",
   "pygments_lexer": "ipython3",
   "version": "3.9.12"
  },
  "orig_nbformat": 4,
  "vscode": {
   "interpreter": {
    "hash": "2b95d1d26a7c151409d3838b561334334add08b8c47c80f91b49b2addd682c6f"
   }
  }
 },
 "nbformat": 4,
 "nbformat_minor": 2
}
