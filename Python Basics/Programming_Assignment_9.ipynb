{
 "cells": [
  {
   "attachments": {},
   "cell_type": "markdown",
   "metadata": {},
   "source": [
    "1. Write a Python Program to check if the given number is a Disarium Number?"
   ]
  },
  {
   "cell_type": "code",
   "execution_count": 1,
   "metadata": {},
   "outputs": [
    {
     "name": "stdout",
     "output_type": "stream",
     "text": [
      "It is disarium number\n"
     ]
    }
   ],
   "source": [
    "def calculateLength(n):    \n",
    "    leng = 0  \n",
    "    while n != 0:    \n",
    "        leng = leng + 1\n",
    "        n = n // 10\n",
    "    return leng\n",
    "\n",
    "def disarium(n):\n",
    "    rem = s = 0\n",
    "    leng = calculateLength(n)\n",
    "    temp = n\n",
    "\n",
    "    while temp > 0:\n",
    "        rem = temp % 10             #5      #3\n",
    "        s += int(rem**leng)       #5**3   #3**3\n",
    "        temp = temp//10             #13      #1\n",
    "        leng = leng - 1\n",
    "\n",
    "    if s == n:\n",
    "        print(\"It is disarium number\")\n",
    "    else:\n",
    "        print(\"It is not disarium number\")\n",
    "\n",
    "disarium(int(input()))\n",
    "\n",
    "#135"
   ]
  },
  {
   "attachments": {},
   "cell_type": "markdown",
   "metadata": {},
   "source": [
    "2. Write a Python program to print all disarium numbers between 1 to 100?"
   ]
  },
  {
   "cell_type": "code",
   "execution_count": 2,
   "metadata": {},
   "outputs": [
    {
     "name": "stdout",
     "output_type": "stream",
     "text": [
      "1\n",
      "2\n",
      "3\n",
      "4\n",
      "5\n",
      "6\n",
      "7\n",
      "8\n",
      "9\n",
      "89\n"
     ]
    }
   ],
   "source": [
    "def disarium(n):\n",
    "    rem = s = 0\n",
    "    leng = calculateLength(n)\n",
    "    temp = n\n",
    "\n",
    "    while temp > 0:\n",
    "        rem = temp % 10\n",
    "        s += int(rem**leng) \n",
    "        temp = temp//10\n",
    "        leng = leng - 1\n",
    "    return s\n",
    "res = 0\n",
    "for i in range(1,101):\n",
    "    res = disarium(i)\n",
    "\n",
    "    if res == i:\n",
    "        print(i)"
   ]
  },
  {
   "attachments": {},
   "cell_type": "markdown",
   "metadata": {},
   "source": [
    "3. Write a Python program to check if the given number is Happy Number?"
   ]
  },
  {
   "cell_type": "code",
   "execution_count": 9,
   "metadata": {},
   "outputs": [
    {
     "name": "stdout",
     "output_type": "stream",
     "text": [
      "It is not a Happy number\n"
     ]
    }
   ],
   "source": [
    "def happy_no(n):\n",
    "    rem = s = 0\n",
    "    temp = n\n",
    "\n",
    "    while temp > 0:\n",
    "        rem = temp % 10\n",
    "        s += int(rem*rem) \n",
    "        temp = temp//10\n",
    "    return s\n",
    "n = happy_no(int(input()))\n",
    "res = n \n",
    "while res != 1 and res != 4:\n",
    "    res = happy_no(res)\n",
    "\n",
    "if res == 1:\n",
    "    print(\"It is a Happy number\")\n",
    "elif res == 4:\n",
    "    print(\"It is not a Happy number\")\n",
    "\n",
    "#82, 32\n",
    "#8^2 + 2^2 = 68\n",
    "#6^2 + 8^2 = 100\n",
    "#1^2 + 0 + 0 = 1"
   ]
  },
  {
   "attachments": {},
   "cell_type": "markdown",
   "metadata": {},
   "source": [
    "4. Write a Python program to print all happy numbers between 1 and 100?"
   ]
  },
  {
   "cell_type": "code",
   "execution_count": 11,
   "metadata": {},
   "outputs": [
    {
     "name": "stdout",
     "output_type": "stream",
     "text": [
      "1\n",
      "7\n",
      "10\n",
      "13\n",
      "19\n",
      "23\n",
      "28\n",
      "31\n",
      "32\n",
      "44\n",
      "49\n",
      "68\n",
      "70\n",
      "79\n",
      "82\n",
      "86\n",
      "91\n",
      "94\n",
      "97\n",
      "100\n"
     ]
    }
   ],
   "source": [
    "r = 0\n",
    "for i in range(1,101):\n",
    "    r = i\n",
    "\n",
    "    while r != 1 and r != 4:\n",
    "        r = happy_no(r)\n",
    "\n",
    "    if r == 1:\n",
    "        print(i)"
   ]
  },
  {
   "attachments": {},
   "cell_type": "markdown",
   "metadata": {},
   "source": [
    "5. Write a Python program to determine whether the given number is a Harshad Number?"
   ]
  },
  {
   "cell_type": "code",
   "execution_count": 12,
   "metadata": {},
   "outputs": [
    {
     "name": "stdout",
     "output_type": "stream",
     "text": [
      "It is a harshad number\n"
     ]
    }
   ],
   "source": [
    "n = int(input())\n",
    "rem = s = 0\n",
    "temp = n\n",
    "\n",
    "while temp > 0:\n",
    "    rem = temp % 10\n",
    "    s += rem\n",
    "    temp = temp//10\n",
    "\n",
    "if n % s == 0:\n",
    "    print(\"It is a harshad number\")\n",
    "else:\n",
    "    print(\"It is not a harshad number\")\n",
    "\n",
    "#156"
   ]
  },
  {
   "attachments": {},
   "cell_type": "markdown",
   "metadata": {},
   "source": [
    "6. Write a Python program to print all pronic numbers between 1 and 100?"
   ]
  },
  {
   "cell_type": "code",
   "execution_count": 13,
   "metadata": {},
   "outputs": [
    {
     "name": "stdout",
     "output_type": "stream",
     "text": [
      "2\n",
      "6\n",
      "12\n",
      "20\n",
      "30\n",
      "42\n",
      "56\n",
      "72\n",
      "90\n"
     ]
    }
   ],
   "source": [
    "def pronic_no(n):\n",
    "    flag = False\n",
    "\n",
    "    for j in range(1, n+1):\n",
    "        if j*(j+1) == n:\n",
    "            flag = True\n",
    "            break\n",
    "    return flag\n",
    "\n",
    "for i in range(1, 101):\n",
    "    if pronic_no(i):\n",
    "        print(i)"
   ]
  }
 ],
 "metadata": {
  "kernelspec": {
   "display_name": "datascience",
   "language": "python",
   "name": "python3"
  },
  "language_info": {
   "codemirror_mode": {
    "name": "ipython",
    "version": 3
   },
   "file_extension": ".py",
   "mimetype": "text/x-python",
   "name": "python",
   "nbconvert_exporter": "python",
   "pygments_lexer": "ipython3",
   "version": "3.9.12"
  },
  "orig_nbformat": 4,
  "vscode": {
   "interpreter": {
    "hash": "2b95d1d26a7c151409d3838b561334334add08b8c47c80f91b49b2addd682c6f"
   }
  }
 },
 "nbformat": 4,
 "nbformat_minor": 2
}
